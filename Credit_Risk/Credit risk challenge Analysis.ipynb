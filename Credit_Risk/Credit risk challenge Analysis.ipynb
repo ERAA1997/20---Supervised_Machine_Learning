{
 "cells": [
  {
   "cell_type": "markdown",
   "id": "dc0004c7",
   "metadata": {},
   "source": [
    "Challenge 20 – Supervised Learning Analysis\n",
    "\n",
    "The purpose of this challenge is to have a way of identifying and predicting loans of different risk status using supervised machine learning models. The data we used to train our models was first reviewed and amended to remove any unnecessary data. We then created two models, one with unaltered data and the second using the RandomOverSampler module from the imbalanced-learn library. The differences between the two models are outlined below.\n",
    "\n",
    "Results\n",
    "Model 1 \n",
    "\n",
    "Model 1 did not use any resampling of the data. The first thing to note was there was far more data available for the “0” in the Value_counts. This will need to be taken into consideration as it biases decision towards the “0” (0 meaning a healthy loan). This gave us a balanced accuracy of 0.944. Looking at our classification report, we see that the precision and recall for “0” are both at 1 (rounded up to 1 as otherwise both would be 100%). Whereas for “1” it reaches 0.87 for precision and 0.89 for recall. \n",
    "\n",
    "Model 2\n",
    "\n",
    "Model 2 uses the RandomOverSampler module from the imbalanced-learn library. From the Value_counts we can see that the “0” and “1” are balanced out in the training data. Using this we create a new model where we have a much-improved balanced accuracy of 0.996. This has led to a massive improvement in the classification report where recall is now at 1 (rounded up). While the precision is still 0.87, the chances of detecting high-risk loans are much improved with this model.\n",
    "\n",
    "Summary\n",
    "\n",
    "Based on the difference between the models using the base data and the resampled data, the model using the resampled data will have more accurate predictions. The equalisation of data for both “0” and “1” removes the bias of the unsampled data. This is very important as correctly identifying high-risk loans (“1”), will prevent unnecessary revenue loss.\n"
   ]
  }
 ],
 "metadata": {
  "kernelspec": {
   "display_name": "Python 3 (ipykernel)",
   "language": "python",
   "name": "python3"
  },
  "language_info": {
   "codemirror_mode": {
    "name": "ipython",
    "version": 3
   },
   "file_extension": ".py",
   "mimetype": "text/x-python",
   "name": "python",
   "nbconvert_exporter": "python",
   "pygments_lexer": "ipython3",
   "version": "3.10.13"
  }
 },
 "nbformat": 4,
 "nbformat_minor": 5
}
